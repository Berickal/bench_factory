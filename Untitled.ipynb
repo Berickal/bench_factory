{
 "cells": [
  {
   "cell_type": "code",
   "execution_count": 10,
   "id": "bcd5ff29-14a4-4210-9644-6411fceadd71",
   "metadata": {},
   "outputs": [],
   "source": [
    "from transformation.invocation import ALL_TRANSFORMATIONS\n",
    "from evaluation.trees.optimized import build_tree_logic_optimized\n",
    "from tqdm import tqdm"
   ]
  },
  {
   "cell_type": "code",
   "execution_count": 2,
   "id": "e876cc0e-9023-41a3-a0b6-b544c312aa80",
   "metadata": {
    "scrolled": true
   },
   "outputs": [],
   "source": [
    "from data_loader.benchmarks.benchmark_loader import QuixBugs, HumanEval, MBPP\n",
    "data = QuixBugs().load_benchmark()\n",
    "#trees = [build_tree_logic_optimized(instance=x, code=None) for x in tqdm(data.data)]\n",
    "#len(trees)"
   ]
  },
  {
   "cell_type": "code",
   "execution_count": 11,
   "id": "cc7b8a43-11c7-4251-ba66-711efed0b16d",
   "metadata": {},
   "outputs": [
    {
     "data": {
      "text/plain": [
       "15"
      ]
     },
     "execution_count": 11,
     "metadata": {},
     "output_type": "execute_result"
    }
   ],
   "source": [
    "len(ALL_TRANSFORMATIONS)"
   ]
  },
  {
   "cell_type": "code",
   "execution_count": 9,
   "id": "b47072d6-c6ab-4617-80b1-ed3940d3c18b",
   "metadata": {
    "scrolled": true
   },
   "outputs": [
    {
     "name": "stdout",
     "output_type": "stream",
     "text": [
      "Collecting editdistance\n",
      "  Using cached editdistance-0.8.1-cp312-cp312-macosx_11_0_arm64.whl.metadata (3.9 kB)\n",
      "Downloading editdistance-0.8.1-cp312-cp312-macosx_11_0_arm64.whl (79 kB)\n",
      "Installing collected packages: editdistance\n",
      "Successfully installed editdistance-0.8.1\n"
     ]
    }
   ],
   "source": [
    "!pip install editdistance"
   ]
  },
  {
   "cell_type": "code",
   "execution_count": null,
   "id": "e30542b7-d276-4813-acaa-dd1fe86ae41b",
   "metadata": {},
   "outputs": [],
   "source": [
    "from evaluation.trees.tree_utils import merge_trees\n",
    "\n",
    "main_tree = merge_trees(trees)\n",
    "len(main_tree.nodes)"
   ]
  },
  {
   "cell_type": "code",
   "execution_count": null,
   "id": "fbf272fc-46e5-4255-81a3-6643702ffe40",
   "metadata": {},
   "outputs": [],
   "source": [
    "main_tree.clean_tree()\n",
    "len(main_tree.nodes)\n",
    "#tree.nodes"
   ]
  },
  {
   "cell_type": "code",
   "execution_count": null,
   "id": "01776672-8c10-4a6b-b776-3261e2f0690a",
   "metadata": {
    "scrolled": true
   },
   "outputs": [],
   "source": [
    "from transformation.invocation import ALL_TRANSFORMATIONS\n",
    "from evaluation.trees.optimized import build_tree_logic_optimized\n",
    "from evaluation.trees.tree_builder import build_nl_tree\n",
    "from tqdm import tqdm\n",
    "from data_loader.benchmarks.mbpp import load_mbpp\n",
    "\n",
    "data = load_mbpp()\n",
    "\n",
    "trees = [build_nl_tree(instance=x, code=None) for x in tqdm(data.data[:5])]\n",
    "len(trees)"
   ]
  },
  {
   "cell_type": "code",
   "execution_count": 9,
   "id": "0f9b5704-7a23-441f-8a1c-6024958b819a",
   "metadata": {},
   "outputs": [
    {
     "data": {
      "text/plain": [
       "0"
      ]
     },
     "execution_count": 9,
     "metadata": {},
     "output_type": "execute_result"
    }
   ],
   "source": [
    "len(main_tree.nodes[93].instance.llm_response)"
   ]
  },
  {
   "cell_type": "code",
   "execution_count": 5,
   "id": "2b8613fa-a246-4f3a-9de2-b7d8522f6410",
   "metadata": {},
   "outputs": [],
   "source": [
    "from pyvis.network import Network\n",
    "import os\n",
    "from evaluation.trees.tree import load_tree\n",
    "from evaluation.trees.tree_utils import merge_trees\n",
    "from evaluation.trees.tmp import merge_trees_level_by_level\n",
    "\n",
    "PATH = \"./experiments/results/testeval/\"\n",
    "EXPORT_FILE = './graph.html'\n",
    "\n",
    "# json_files = [os.path.join(PATH, f) for f in os.listdir(PATH) if f.endswith(\".json\")][:8]\n",
    "# trees = []\n",
    "# for f in json_files:\n",
    "#     trees.append(load_tree(f))\n",
    "# main_tree = merge_trees_level_by_level(trees)\n",
    "#main_tree = compute_diff_perf(main_tree)\n",
    "#main_tree.clean_tree()\n",
    "\n",
    "main_tree = load_tree(\"./data/perplexity/quixbugs/quixbugs_breadth_first_search.json\")\n",
    "main_tree.compute_performance_diff()\n",
    "main_tree.clean_tree()\n",
    "\n",
    "main_tree = merge_trees_level_by_level([main_tree, tree])\n",
    "main_tree.clean_tree()\n",
    "\n",
    "ids, labels = [], []\n",
    "edge = []\n",
    "titles, colors = [], []\n",
    "\n",
    "#trees[0].clean_tree()\n",
    "for n in main_tree.nodes:\n",
    "    ids.append(n.ids)\n",
    "    labels.append(n.transformation)\n",
    "    # Fix: Use dot notation instead of dictionary access\n",
    "    titles.append(f\"\"\"ID : {n.ids}\n",
    "                    Performance : {n.performance.score}\n",
    "                    Perplexity : {n.perplexity}\n",
    "                    Diff : {n.perf_diff}\n",
    "                    Num instance : {n.num_instances}\n",
    "                    \"\"\")\n",
    "    if n.parent_node != None:\n",
    "        edge.append((n.ids, n.parent_node))\n",
    "    # Fix: Use dot notation instead of dictionary access\n",
    "\n",
    "    if n.perf_diff >= 0:\n",
    "        colors.append(\"#39744a\")\n",
    "    elif n.perf_diff >= -0.1:\n",
    "        colors.append(\"#18a999\")\n",
    "    elif n.perf_diff == 0.0 and n.num_instances == 0:\n",
    "        colors.append(\"#777777\")\n",
    "    else:\n",
    "        colors.append(\"#df2935\")\n",
    "    \n",
    "    # if n.performance.score >= 0.75:\n",
    "    #     colors.append(\"#39744a\")\n",
    "    # elif n.performance.score >= 0.2:\n",
    "    #     colors.append(\"#18a999\")\n",
    "    # elif n.performance.score == 0.0 and n.num_instances == 0:\n",
    "    #     colors.append(\"#777777\")\n",
    "    # else:\n",
    "    #     colors.append(\"#df2935\")\n",
    "\n",
    "net = Network()\n",
    "net.add_nodes(ids, label=labels, title=titles, color=colors)\n",
    "net.add_edges(edge)\n",
    "net.save_graph(EXPORT_FILE)\n",
    "\n",
    "\n"
   ]
  },
  {
   "cell_type": "code",
   "execution_count": null,
   "id": "771e7024-71ec-466d-b048-f9be68322399",
   "metadata": {},
   "outputs": [],
   "source": [
    "type(main_tree.nodes[0].instance.metadata)"
   ]
  },
  {
   "cell_type": "code",
   "execution_count": null,
   "id": "21a8e782-1925-4120-a5f4-a6ac83fd7a3e",
   "metadata": {},
   "outputs": [],
   "source": [
    "from evaluation.trees.tree import load_tree\n",
    "tree = load_tree(\"./experiments/results/quixbugs/run_0/quixbugs_bitcount.json\")\n",
    "idx = 2\n",
    "#print(tree.nodes[idx].instance.llm_response[0])\n",
    "print(tree.nodes[idx].instance.input)\n",
    "#print(\"--\"*10)\n",
    "#print(tree.nodes[idx].performance.score)\n",
    "print(\"--\"*10)\n",
    "print(tree._get_transformations_in_path(tree.nodes[idx].ids))\n",
    "print(\"--\"*10)\n",
    "print(tree.nodes[0].instance.input)\n",
    "#print(tree.nodes[0].instance.input)\n",
    "#print(\"--\"*10)\n",
    "#print(tree.nodes[0].instances)"
   ]
  },
  {
   "cell_type": "code",
   "execution_count": null,
   "id": "9fab020b-d2fa-4621-87ed-e9999ab945cc",
   "metadata": {},
   "outputs": [],
   "source": [
    "from evaluation.metrics.code_coverage import *\n",
    "\n",
    "code = extract_program(tree.nodes[idx].instance.input)\n",
    "code = clean_test(tree.nodes[idx].instance.llm_response[0])\n",
    "#code = merge_program(tree.nodes[idx].instance.input, tree.nodes[idx].instance.llm_response[1])\n",
    "coverage = get_code_coverage(tree.nodes[idx].instance.input, tree.nodes[idx].instance.llm_response[1])\n",
    "print(coverage)\n",
    "\n"
   ]
  },
  {
   "cell_type": "code",
   "execution_count": null,
   "id": "86b38cf2-190c-40f7-a1ba-a4c4a4a7e681",
   "metadata": {},
   "outputs": [],
   "source": []
  },
  {
   "cell_type": "code",
   "execution_count": null,
   "id": "cd320c34-f882-4897-bba2-0be82265041b",
   "metadata": {},
   "outputs": [],
   "source": [
    "from transformation.ast_utils import _parse, _flatten_tree\n",
    "from transformation.code_sosification.random_transformation import AddRandomTransformation\n",
    "import sys\n",
    "from difflib import *\n",
    "\n",
    "index = 6\n",
    "\n",
    "trans = ALL_TRANSFORMATIONS[index](input=data.data[1].input, programming_language=\"python\")\n",
    "origin_code = data.data[1].input\n",
    "trans_code = trans.apply()\n",
    "\n",
    "diff = ndiff(origin_code.splitlines(keepends=True),\n",
    "             trans_code.splitlines(keepends=True))\n",
    "\n",
    "print(ALL_TRANSFORMATIONS[index])\n",
    "print(\"-\"*10)\n",
    "print(origin_code)\n",
    "print(\"-\"*10)\n",
    "print(trans_code)\n",
    "print(\"-\"*10)\n",
    "print(''.join(diff), end=\"\")"
   ]
  },
  {
   "cell_type": "code",
   "execution_count": null,
   "id": "6a97d03e-848f-4380-99ee-fcf0a633b3ad",
   "metadata": {},
   "outputs": [],
   "source": [
    "def print_nodes_recursive(node, indent=0):\n",
    "    print(\"  \" * indent + f\"{node.type} [{node.start_point} - {node.end_point}]\")\n",
    "    for child in node.children:\n",
    "        print_nodes_recursive(child, indent + 1)\n",
    "\n",
    "\n",
    "print_nodes_recursive(my_tree.root_node)"
   ]
  },
  {
   "cell_type": "code",
   "execution_count": null,
   "id": "999a1122-0cd9-4101-b3e6-32359252b76e",
   "metadata": {},
   "outputs": [],
   "source": [
    "ALL_TRANSFORMATIONS[10]"
   ]
  },
  {
   "cell_type": "code",
   "execution_count": null,
   "id": "75bd01c5-30f2-47bb-a1b2-679e2b8f903c",
   "metadata": {},
   "outputs": [],
   "source": []
  },
  {
   "cell_type": "code",
   "execution_count": null,
   "id": "66d7f24e-b0b9-4082-9d32-b99c7b68c6da",
   "metadata": {
    "scrolled": true
   },
   "outputs": [],
   "source": []
  },
  {
   "cell_type": "code",
   "execution_count": null,
   "id": "b5c14997-3d94-4ba8-bd7e-f905afb3f42d",
   "metadata": {
    "scrolled": true
   },
   "outputs": [],
   "source": [
    "from evaluation.metrics.pass_test import (\n",
    "    evaluate_quixbugs_instance, \n",
    "    evaluate_human_eval_instance, \n",
    "    evaluate_mbbp_instance\n",
    ")\n",
    "import os\n",
    "from tqdm import tqdm\n",
    "from evaluation.trees.tree import load_tree\n",
    "from evaluation.metrics.code_coverage import *\n",
    "import numpy as np\n",
    "\n",
    "def evaluate_response(response: str, input_program) -> dict:\n",
    "    \"\"\"Evaluate a single response\"\"\"\n",
    "    return get_code_coverage(input_program, res)\n",
    "\n",
    "def fix_import(og_input, modified_input):\n",
    "    try :\n",
    "        og_import = og_input.split(\"----\", 1)[1].split(\"class\", 1)[0]\n",
    "        md_import = modified_input.split(\"----\", 1)[1].split(\"class\", 1)[0]\n",
    "        return modified_input.replace(md_import, og_import)\n",
    "    except Exception : \n",
    "        return modified_input\n",
    "\n",
    "PATH = \"./experiments/results/testeval/\"\n",
    "json_files = [os.path.join(PATH, f) for f in os.listdir(PATH) if f.endswith(\".json\")][:6]\n",
    "for f in tqdm(json_files):\n",
    "    tree = load_tree(f)\n",
    "    for n in tree.nodes:\n",
    "        code_coverage = []\n",
    "        alt_node = None\n",
    "        \n",
    "        if n.transformation == \"VariableRenaming\":\n",
    "            parent_node = tree.get_node_by_id(n.parent_node)\n",
    "            alt_node = parent_node\n",
    "        #n.instance.input = fix_import(tree.nodes[0].instance.input, n.instance.input)\n",
    "        for res in n.instance.llm_response:\n",
    "            try:\n",
    "                if alt_node != None:\n",
    "                    cc = evaluate_response(res, alt_node.instance.input)\n",
    "                    print(\"Process with PN\")\n",
    "                elif alt_node == None or \"error\" in cc.keys():\n",
    "                    cc = evaluate_response(res, n.instance.input)\n",
    "                code_coverage.append(cc[\"coverage_percentage\"])\n",
    "            except KeyError:\n",
    "                print(\"No coverage_percentage key found\")\n",
    "                #print(n.instance.input)\n",
    "                break\n",
    "        n.performance.score = np.mean(code_coverage)\n",
    "        if n.transformation == \"VariableRenaming\":\n",
    "            tree.update_node(n.ids, n)\n",
    "    tree.save_tree(f)\n",
    "\n",
    "\n",
    "            "
   ]
  },
  {
   "cell_type": "code",
   "execution_count": null,
   "id": "34f4c1e4-c847-4a26-94ee-e531f9f98bc1",
   "metadata": {
    "scrolled": true
   },
   "outputs": [],
   "source": [
    "for n in tree.nodes:\n",
    "    print(n.performance.score)\n",
    "    #tree.nodes[1].instance.input"
   ]
  },
  {
   "cell_type": "code",
   "execution_count": null,
   "id": "ad6ada12-aecd-4566-b091-ae84a2085704",
   "metadata": {},
   "outputs": [],
   "source": []
  },
  {
   "cell_type": "code",
   "execution_count": null,
   "id": "5ed085a0-bc31-4dcf-8491-eac7609c386a",
   "metadata": {},
   "outputs": [],
   "source": [
    "from evaluation.metrics.pass_test import (\n",
    "    evaluate_quixbugs_instance, \n",
    "    evaluate_human_eval_instance, \n",
    "    evaluate_mbbp_instance\n",
    ")\n",
    "\n",
    "def clean_node(node):\n",
    "    clean_res = []\n",
    "    for res in node.instance.llm_response:\n",
    "        if \"def \" in res:\n",
    "            function_name = res.split('def ', 1)[1].split('(', 1)[0].strip()\n",
    "            if res.count(function_name) > 1:\n",
    "                r = res.split(function_name)[:2]\n",
    "                res = r[0]\n",
    "                res += f\"{function_name}{r[1][:r[1].rfind('\\n')]}\"\n",
    "        clean_res.append(res)\n",
    "    node.instance.llm_response = clean_res\n",
    "    return node\n",
    "\n",
    "alt_node = clean_node(main_tree.nodes[11])\n"
   ]
  },
  {
   "cell_type": "code",
   "execution_count": null,
   "id": "c9ed49cf-bf47-4ea7-97e2-52b5fa8a72f4",
   "metadata": {},
   "outputs": [],
   "source": [
    "print(alt_node.instance.llm_response[1])"
   ]
  },
  {
   "cell_type": "code",
   "execution_count": null,
   "id": "5b42cc03-84be-4310-a031-d3bb7dc3431c",
   "metadata": {
    "scrolled": true
   },
   "outputs": [],
   "source": [
    "from evaluation.metrics.pass_test import evaluate_mbbp_instance, evaluate_quixbugs_instance\n",
    "tree = load_tree(\"./experiments/results/mbpp_602.json\")\n",
    "print(tree.nodes[0].instance.llm_response[0])\n",
    "print(\"--\"*10)\n",
    "print(tree.nodes[0].instance.metadata[\"tests\"])\n",
    "\n",
    "def update_tree_eval(tree):\n",
    "    for n in tree.nodes:\n",
    "        passed = 0\n",
    "        for response in n.instance.llm_response:\n",
    "            test_report = evaluate_mbbp_instance(\n",
    "                response=response,\n",
    "                tests=n.instance.metadata['tests'],\n",
    "                timeout=10,\n",
    "            )\n",
    "            if test_report.passed:\n",
    "                passed += 1\n",
    "        n.performance.score = passed / len(n.instance.llm_response)\n",
    "        n.performance.metric = \"pass_test\"\n",
    "        tree.update_node(n.ids, n)\n",
    "    return tree\n",
    "\n",
    "#report = evaluate_mbbp_instance(tree.nodes[0].instance.llm_response[1], tree.nodes[0].instance.metadata[\"tests\"])\n",
    "#report\n",
    "tree = update_tree_eval(tree)\n",
    "for n in tree.nodes:\n",
    "    print(n.performance.score)\n",
    "tree.save_tree(\"./experiments/results/mbpp_602.json\")\n",
    "\n",
    "#for n in main_tree.nodes:\n",
    "#    test = evaluate_quixbugs_instance(n.instance.llm_response[0], n.instance.metadata['tests'])\n",
    "#    print(test.passed)"
   ]
  },
  {
   "cell_type": "code",
   "execution_count": null,
   "id": "13ff637b-8e84-48c4-af5e-708e8b20981d",
   "metadata": {},
   "outputs": [],
   "source": [
    "def get_transformation_impact(trees, nl : bool = False, perplexity : bool = False):\n",
    "    if nl :\n",
    "        trans = [tr.__name__ for tr in ALL_NL_TRANSFORMATIONS]\n",
    "    else :\n",
    "        trans = [tr.__name__ for tr in ALL_TRANSFORMATIONS]\n",
    "    trans = list(set(trans))\n",
    "    trans_stat = {tr : [] for tr in trans}\n",
    "    for tree in trees:\n",
    "        tree.clean_tree()\n",
    "        tree.compute_performance_diff()\n",
    "        for n in tree.nodes:\n",
    "            if n.transformation != \"NoMutation\":\n",
    "                if perplexity:\n",
    "                    trans_stat[n.transformation].append(n.perplexity_diff)\n",
    "                else:\n",
    "                    trans_stat[n.transformation].append(n.perf_diff)\n",
    "    return trans_stat\n",
    "\n",
    "\n",
    "def get_transformation_combined_impact(trees, nl : bool = False, perplexity : bool = False):\n",
    "    trans_stat = {}\n",
    "    for tree in trees:\n",
    "        tree.clean_tree()\n",
    "        tree.compute_performance_diff()\n",
    "        for n in tree.nodes:\n",
    "            if n.transformation != \"NoMutation\":\n",
    "                tr_ = list(tree._get_transformations_in_path(n.ids))\n",
    "                if len(tr_) < 4:\n",
    "                    tr_ = \"+\".join(tr_).replace(\"+NoMutation\", \"\").replace(\"NoMutation+\", \"\")\n",
    "                    if tr_ not in trans_stat.keys():\n",
    "                        trans_stat[tr_] = []\n",
    "                    if perplexity:\n",
    "                        trans_stat[tr_].append(n.perplexity_diff)\n",
    "                    else :\n",
    "                        trans_stat[tr_].append(n.perf_diff)\n",
    "    return trans_stat"
   ]
  },
  {
   "cell_type": "code",
   "execution_count": null,
   "id": "23f6ef07-270b-4566-ad0b-f5951f5e7838",
   "metadata": {},
   "outputs": [],
   "source": [
    "from transformation.invocation import ALL_TRANSFORMATIONS\n",
    "from nlaugmenter.invocation import ALL_NL_TRANSFORMATIONS\n",
    "from evaluation.trees.tree import load_tree\n",
    "import os\n",
    "import numpy as np\n",
    "import matplotlib.pyplot as plt\n",
    "\n",
    "\n",
    "\n",
    "#PATHS = [\"./experiments/perplexity/codememo_epoch_1/HumanEval/\", \"./experiments/perplexity/codememo_epoch_1/MBPP/\"]\n",
    "PATHS = [\"./experiments/perplexity/codememo_epoch_100/mbpp/\"]\n",
    "SAVED_FIG = \"./assets/Code_Memo_Epoch_100_MBPP_Perplexity_Variation_By_Transformation_Combined.pdf\"\n",
    "TITLE = \"Mean of perplexity variation by transformation combined CodeMemo Epoch 100 (MBPP)\"\n",
    "\n",
    "\n",
    "plt.rcParams.update({'font.size': 14})\n",
    "fig, ax = plt.subplots(nrows=1, ncols=1, sharey=True)\n",
    "fig.set_size_inches(18.5, 8.5)\n",
    "plt.xticks(rotation=30)\n",
    "#fig.subplots_adjust(bottom=0.9)\n",
    "\n",
    "ax_idx = [[0, 0], [0, 1], [1, 0], [1, 1]]\n",
    "\n",
    "for idx, PATH in enumerate(PATHS):\n",
    "    json_files = [os.path.join(PATH, f) for f in os.listdir(PATH) if f.endswith(\".json\")]\n",
    "    trees = []\n",
    "    for f in json_files:\n",
    "        trees.append(load_tree(f))\n",
    "\n",
    "trans_stat = get_transformation_combined_impact(trees, nl=False, perplexity=True)\n",
    "trans_stat_mean = {key: np.nanmean(np.array(value)) if isinstance(value, (list, np.ndarray)) and len(value) > 0 else np.nan for key, value in trans_stat.items()}\n",
    "#x = x[~numpy.isnan(x)]\n",
    "ax_x, ax_y = ax_idx[idx][0], ax_idx[idx][1]\n",
    "ax.set_ylabel(\"Perplexity Variation\")\n",
    "ax.bar(trans_stat_mean.keys(), trans_stat_mean.values())\n",
    "ax.set_title(TITLE)\n",
    "ax.set_xticklabels(trans_stat_mean.keys(), rotation=90, ha='right')\n",
    "#ax.set_xticklabels([], rotation=30, ha='right')\n",
    "#ax[ax_x][ax_y].xticks(rotation=90)\n",
    "ax.grid()\n",
    "\n",
    "plt.savefig(SAVED_FIG, bbox_inches='tight')\n",
    "\n",
    "        "
   ]
  },
  {
   "cell_type": "code",
   "execution_count": null,
   "id": "bbfb2e97-c113-4c9c-8b30-dc770159fc64",
   "metadata": {},
   "outputs": [],
   "source": [
    "#trans_stat[\"ComparisonMutation\"]\n",
    "trans_stat_mean"
   ]
  },
  {
   "cell_type": "code",
   "execution_count": null,
   "id": "75d14105-020b-431f-a892-892fe6d88220",
   "metadata": {},
   "outputs": [],
   "source": [
    "from datasets import load_dataset\n",
    "from ast import literal_eval\n",
    "ds = load_dataset(\"codeparrot/apps\", split=\"test\")\n",
    "df = ds.to_pandas()\n",
    "df.head(1)\n",
    "\n",
    "#print(literal_eval(df.at[0, \"solutions\"])[0])\n",
    "print(literal_eval(df.at[0, \"input_output\"])[\"inputs\"][0])"
   ]
  },
  {
   "cell_type": "code",
   "execution_count": 1,
   "id": "18bc7901-e0e8-4818-bee5-ac8c4f71b511",
   "metadata": {},
   "outputs": [],
   "source": [
    "from ollama import Client\n",
    "instruction = \"\"\"\n",
    "import math\n",
    "import itertools\n",
    "import bisect\n",
    "import collections\n",
    "import string\n",
    "import heapq\n",
    "import functools\n",
    "import sortedcontainers\n",
    "from typing import List, Dict, Tuple, Iterator\n",
    "\n",
    "class Solution:\n",
    "  def isMatch(self, s: str, p: str) -> bool:\n",
    "    m = len(s)\n",
    "    n = len(p)\n",
    "    dp = [[False] * (n + 1) for _ in range(m + 1)]\n",
    "    dp[0][0] = True\n",
    "\n",
    "    def isMatch(i: int, j: int) -> bool:\n",
    "      return j >= 0 and p[j] == '.' or s[i] == p[j]\n",
    "\n",
    "    for j, c in enumerate(p):\n",
    "      if c == '*' and dp[0][j - 1]:\n",
    "        dp[0][j + 1] = True\n",
    "\n",
    "    for i in range(m):\n",
    "      for j in range(n):\n",
    "        if p[j] == '*':\n",
    "          noRepeat = dp[i + 1][j - 1]\n",
    "          doRepeat = isMatch(i, j - 1) and dp[i][j + 1]\n",
    "          dp[i + 1][j + 1] = noRepeat or doRepeat\n",
    "        elif isMatch(i, j):\n",
    "          dp[i + 1][j + 1] = dp[i][j]\n",
    "\n",
    "    return dp[m][n]\n",
    "\"\"\"\n",
    "\n",
    "\n",
    "class OllamaClient():\n",
    "    def __init__(self):\n",
    "        self._model = \"deepseek-coder-v2:latest\"\n",
    "        self._client = Client(host=\"http://trux-hikari.uni.lux:11434/\")\n",
    "\n",
    "    def send_prompt(self, system_prompt: str, user_prompt: str) -> str | None:\n",
    "        completion = self._client.chat(\n",
    "            model=\"deepseek-coder-v2:latest\",\n",
    "            messages=[\n",
    "                {\"role\": \"system\", \"content\": system_prompt},\n",
    "                {\"role\": \"user\", \"content\": user_prompt},\n",
    "            ],\n",
    "        )\n",
    "        return completion.message.content\n",
    "\n",
    "\n",
    "\n",
    "client = OllamaClient()\n",
    "#responses.append(client.send_prompt(\"\", instruction))"
   ]
  },
  {
   "cell_type": "code",
   "execution_count": 2,
   "id": "68884b23-92ee-46bb-aab7-b6e09477ce1e",
   "metadata": {},
   "outputs": [
    {
     "name": "stdout",
     "output_type": "stream",
     "text": [
      "[<Node type=integer, start_point=(15, 25), end_point=(15, 26)>, <Node type=integer, start_point=(15, 47), end_point=(15, 48)>, <Node type=integer, start_point=(16, 7), end_point=(16, 8)>, <Node type=integer, start_point=(16, 10), end_point=(16, 11)>, <Node type=integer, start_point=(19, 18), end_point=(19, 19)>, <Node type=integer, start_point=(22, 25), end_point=(22, 26)>, <Node type=integer, start_point=(22, 32), end_point=(22, 33)>, <Node type=integer, start_point=(23, 11), end_point=(23, 12)>, <Node type=integer, start_point=(23, 18), end_point=(23, 19)>, <Node type=integer, start_point=(28, 28), end_point=(28, 29)>, <Node type=integer, start_point=(28, 35), end_point=(28, 36)>, <Node type=integer, start_point=(29, 36), end_point=(29, 37)>, <Node type=integer, start_point=(29, 53), end_point=(29, 54)>, <Node type=integer, start_point=(30, 17), end_point=(30, 18)>, <Node type=integer, start_point=(30, 24), end_point=(30, 25)>, <Node type=integer, start_point=(32, 17), end_point=(32, 18)>, <Node type=integer, start_point=(32, 24), end_point=(32, 25)>]\n",
      "2\n",
      "\n",
      "import math\n",
      "import itertools\n",
      "import bisect\n",
      "import collections\n",
      "import string\n",
      "import heapq\n",
      "import functools\n",
      "import sortedcontainers\n",
      "from typing import List, Dict, Tuple, Iterator\n",
      "\n",
      "class Solution:\n",
      "  def isMatch(self, s: str, p: str) -> bool:\n",
      "    m = len(s)\n",
      "    n = len(p)\n",
      "    dp = [[False] * (n + 2) for _ in range(m + 1)]\n",
      "    dp[0][0] = True\n",
      "\n",
      "    def isMatch(i: int, j: int) -> bool:\n",
      "      return j >= 0 and p[j] == '.' or s[i] == p[j]\n",
      "\n",
      "    for j, c in enumerate(p):\n",
      "      if c == '*' and dp[0][j - 1]:\n",
      "        dp[0][j + 1] = True\n",
      "\n",
      "    for i in range(m):\n",
      "      for j in range(n):\n",
      "        if p[j] == '*':\n",
      "          noRepeat = dp[i + 1][j - 1]\n",
      "          doRepeat = isMatch(i, j - 1) and dp[i][j + 1]\n",
      "          dp[i + 1][j + 1] = noRepeat or doRepeat\n",
      "        elif isMatch(i, j):\n",
      "          dp[i + 1][j + 1] = dp[i][j]\n",
      "\n",
      "    return dp[m][n]\n",
      "\n"
     ]
    }
   ],
   "source": [
    "from transformation.refactoring.variable_renaming import VariableRenaming, VariableRenamingSynonym, VariableRenamingAntonym\n",
    "from transformation.obfuscation.opaque_predicate import OpaquePredicateTransformation\n",
    "from transformation.code_mutation.syntax_error import SyntaxErrorTransformation\n",
    "from transformation.code_mutation.number_replacer import NumberTransformer\n",
    "import textdistance as td\n",
    "\n",
    "#instruction = data.data[0].input\n",
    "\n",
    "trans = NumberTransformer(instruction, \"python\")\n",
    "alt = trans.check()\n",
    "#td.levenshtein.distance(alt, instruction)\n",
    "print(trans.apply())"
   ]
  },
  {
   "cell_type": "code",
   "execution_count": null,
   "id": "8bbeaab0-20bc-44f0-ba28-5b1340151564",
   "metadata": {},
   "outputs": [],
   "source": [
    "for response in responses:\n",
    "    if \"```python\" in response:\n",
    "        response = response.split(\"```python\")[1]\n",
    "    if \"```\" in response:\n",
    "        response = response.split(\"```\")[0]\n",
    "    print(get_code_coverage(instruction, response))\n"
   ]
  },
  {
   "cell_type": "code",
   "execution_count": null,
   "id": "c7d8c8fd-7bfe-4262-a8b4-6b4622cfed78",
   "metadata": {},
   "outputs": [],
   "source": []
  }
 ],
 "metadata": {
  "kernelspec": {
   "display_name": "Python 3 (ipykernel)",
   "language": "python",
   "name": "python3"
  },
  "language_info": {
   "codemirror_mode": {
    "name": "ipython",
    "version": 3
   },
   "file_extension": ".py",
   "mimetype": "text/x-python",
   "name": "python",
   "nbconvert_exporter": "python",
   "pygments_lexer": "ipython3",
   "version": "3.12.2"
  }
 },
 "nbformat": 4,
 "nbformat_minor": 5
}
