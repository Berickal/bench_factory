{
 "cells": [
  {
   "cell_type": "code",
   "execution_count": 1,
   "id": "389c2583-8812-44af-95ef-66c34c0e8999",
   "metadata": {},
   "outputs": [],
   "source": [
    "from ollama import chat\n",
    "from ollama import ChatResponse\n",
    "import pandas\n",
    "from tqdm import tqdm\n",
    "\n",
    "def generate_alt_version(input):\n",
    "    response: ChatResponse = chat(model='deepseek-coder-v2', messages=[\n",
    "        {'role': 'system', 'content': 'You are a Python expert. For each code given under the format \"Code : {code}\", you will provide as output an alternative version of this code while preserving it main purpose under the format \"Alternative : {code}\".',},\n",
    "      {'role': 'user', 'content': f'Code : {input}',},\n",
    "    ])\n",
    "    return response.message.content"
   ]
  },
  {
   "cell_type": "code",
   "execution_count": 8,
   "id": "9cb8baed-77bc-41ec-b603-bd11d97cdd7d",
   "metadata": {},
   "outputs": [
    {
     "name": "stdout",
     "output_type": "stream",
     "text": [
      "def similar_elements(test_tup1, test_tup2):\n",
      "    res = tuple(set(test_tup1) & set(test_tup2))\n",
      "    return (res)\n",
      "\n"
     ]
    }
   ],
   "source": [
    "code = \"\"\"\n",
    "def similar_elements(test_tup1, test_tup2):\n",
    "\n",
    "    res = tuple(set(test_tup1) & set(test_tup2))\n",
    "    \n",
    "    return (res)\n",
    "\"\"\"\n",
    "code_ = code.splitlines()\n",
    "rs = \"\"\n",
    "for line in code_:\n",
    "    rs += line + \"\\n\"\n",
    "print(rs)\n",
    "#print(generate_alt_version(code))"
   ]
  },
  {
   "cell_type": "code",
   "execution_count": 9,
   "id": "d85454ac-2134-49a4-9da0-1e2bde74daf9",
   "metadata": {},
   "outputs": [
    {
     "data": {
      "text/plain": [
       "3"
      ]
     },
     "execution_count": 9,
     "metadata": {},
     "output_type": "execute_result"
    }
   ],
   "source": [
    "len(rs.splitlines())"
   ]
  },
  {
   "cell_type": "code",
   "execution_count": null,
   "id": "7a6d4dfc-6a4a-4e2c-b67d-c13f050ea608",
   "metadata": {},
   "outputs": [],
   "source": []
  },
  {
   "cell_type": "code",
   "execution_count": null,
   "id": "f3c4d41f-6c3e-4d50-9270-02799b117ae4",
   "metadata": {},
   "outputs": [],
   "source": []
  },
  {
   "cell_type": "code",
   "execution_count": null,
   "id": "8fd2525b-fd2b-4461-99aa-bc4ad91e87c8",
   "metadata": {},
   "outputs": [],
   "source": []
  }
 ],
 "metadata": {
  "kernelspec": {
   "display_name": "Python 3 (ipykernel)",
   "language": "python",
   "name": "python3"
  },
  "language_info": {
   "codemirror_mode": {
    "name": "ipython",
    "version": 3
   },
   "file_extension": ".py",
   "mimetype": "text/x-python",
   "name": "python",
   "nbconvert_exporter": "python",
   "pygments_lexer": "ipython3",
   "version": "3.12.2"
  }
 },
 "nbformat": 4,
 "nbformat_minor": 5
}
